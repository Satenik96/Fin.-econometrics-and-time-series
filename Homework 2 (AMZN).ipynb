{
 "cells": [
  {
   "cell_type": "code",
   "execution_count": 13,
   "metadata": {},
   "outputs": [],
   "source": [
    "import pandas as pd\n",
    "import numpy as np\n",
    "import matplotlib.pyplot as plt"
   ]
  },
  {
   "cell_type": "code",
   "execution_count": 3,
   "metadata": {},
   "outputs": [],
   "source": [
    "data = pd.read_csv(\"C:/Users/Home/Downloads/dat.csv\")"
   ]
  },
  {
   "cell_type": "code",
   "execution_count": 4,
   "metadata": {},
   "outputs": [
    {
     "data": {
      "text/html": [
       "<div>\n",
       "<style scoped>\n",
       "    .dataframe tbody tr th:only-of-type {\n",
       "        vertical-align: middle;\n",
       "    }\n",
       "\n",
       "    .dataframe tbody tr th {\n",
       "        vertical-align: top;\n",
       "    }\n",
       "\n",
       "    .dataframe thead th {\n",
       "        text-align: right;\n",
       "    }\n",
       "</style>\n",
       "<table border=\"1\" class=\"dataframe\">\n",
       "  <thead>\n",
       "    <tr style=\"text-align: right;\">\n",
       "      <th></th>\n",
       "      <th>Date</th>\n",
       "      <th>Adj Close S&amp;P</th>\n",
       "      <th>Adj Close AMZN</th>\n",
       "    </tr>\n",
       "  </thead>\n",
       "  <tbody>\n",
       "    <tr>\n",
       "      <th>0</th>\n",
       "      <td>1/1/2007</td>\n",
       "      <td>1438.239990</td>\n",
       "      <td>37.669998</td>\n",
       "    </tr>\n",
       "    <tr>\n",
       "      <th>1</th>\n",
       "      <td>2/1/2007</td>\n",
       "      <td>1406.819946</td>\n",
       "      <td>39.139999</td>\n",
       "    </tr>\n",
       "    <tr>\n",
       "      <th>2</th>\n",
       "      <td>3/1/2007</td>\n",
       "      <td>1420.859985</td>\n",
       "      <td>39.790001</td>\n",
       "    </tr>\n",
       "    <tr>\n",
       "      <th>3</th>\n",
       "      <td>4/1/2007</td>\n",
       "      <td>1482.369995</td>\n",
       "      <td>61.330002</td>\n",
       "    </tr>\n",
       "    <tr>\n",
       "      <th>4</th>\n",
       "      <td>5/1/2007</td>\n",
       "      <td>1530.619995</td>\n",
       "      <td>69.139999</td>\n",
       "    </tr>\n",
       "  </tbody>\n",
       "</table>\n",
       "</div>"
      ],
      "text/plain": [
       "       Date  Adj Close S&P  Adj Close AMZN\n",
       "0  1/1/2007    1438.239990       37.669998\n",
       "1  2/1/2007    1406.819946       39.139999\n",
       "2  3/1/2007    1420.859985       39.790001\n",
       "3  4/1/2007    1482.369995       61.330002\n",
       "4  5/1/2007    1530.619995       69.139999"
      ]
     },
     "execution_count": 4,
     "metadata": {},
     "output_type": "execute_result"
    }
   ],
   "source": [
    "data.head()"
   ]
  },
  {
   "cell_type": "code",
   "execution_count": 5,
   "metadata": {},
   "outputs": [
    {
     "data": {
      "text/plain": [
       "(145, 3)"
      ]
     },
     "execution_count": 5,
     "metadata": {},
     "output_type": "execute_result"
    }
   ],
   "source": [
    "data.shape"
   ]
  },
  {
   "cell_type": "code",
   "execution_count": 6,
   "metadata": {},
   "outputs": [
    {
     "data": {
      "text/plain": [
       "Date               object\n",
       "Adj Close S&P     float64\n",
       "Adj Close AMZN    float64\n",
       "dtype: object"
      ]
     },
     "execution_count": 6,
     "metadata": {},
     "output_type": "execute_result"
    }
   ],
   "source": [
    "data.dtypes"
   ]
  },
  {
   "cell_type": "code",
   "execution_count": 9,
   "metadata": {
    "scrolled": true
   },
   "outputs": [],
   "source": [
    "data[\"Date\"] = pd.to_datetime(data.Date)"
   ]
  },
  {
   "cell_type": "code",
   "execution_count": 10,
   "metadata": {},
   "outputs": [
    {
     "data": {
      "text/plain": [
       "Date              datetime64[ns]\n",
       "Adj Close S&P            float64\n",
       "Adj Close AMZN           float64\n",
       "dtype: object"
      ]
     },
     "execution_count": 10,
     "metadata": {},
     "output_type": "execute_result"
    }
   ],
   "source": [
    "data.dtypes"
   ]
  },
  {
   "cell_type": "code",
   "execution_count": 15,
   "metadata": {},
   "outputs": [],
   "source": [
    "dat = data.set_index(\"Date\")"
   ]
  },
  {
   "cell_type": "code",
   "execution_count": 37,
   "metadata": {
    "scrolled": true
   },
   "outputs": [
    {
     "data": {
      "image/png": "[encoded data removed]",
      "text/plain": [
       "<Figure size 432x288 with 1 Axes>"
      ]
     },
     "metadata": {},
     "output_type": "display_data"
    }
   ],
   "source": [
    "ax = plt.subplot(111)\n",
    "dat[\"Adj Close AMZN\"].plot()\n",
    "dat[\"Adj Close S&P\"].plot()\n",
    "plt.title('Line graph for AMAZON and S&P 500')\n",
    "plt.show()"
   ]
  },
  {
   "cell_type": "code",
   "execution_count": 51,
   "metadata": {},
   "outputs": [],
   "source": [
    "monthly_return = data['Adj Close AMZN'].pct_change(1)"
   ]
  },
  {
   "cell_type": "code",
   "execution_count": 52,
   "metadata": {
    "scrolled": true
   },
   "outputs": [
    {
     "data": {
      "text/plain": [
       "0           NaN\n",
       "1      0.039023\n",
       "2      0.016607\n",
       "3      0.541342\n",
       "4      0.127344\n",
       "5     -0.010558\n",
       "6      0.148078\n",
       "7      0.017443\n",
       "8      0.165686\n",
       "9     -0.042941\n",
       "10     0.015816\n",
       "11     0.022968\n",
       "12    -0.161269\n",
       "13    -0.170270\n",
       "14     0.105941\n",
       "15     0.102805\n",
       "16     0.038026\n",
       "17    -0.101568\n",
       "18     0.041047\n",
       "19     0.058554\n",
       "20    -0.099616\n",
       "21    -0.213304\n",
       "22    -0.254018\n",
       "23     0.200937\n",
       "24     0.147036\n",
       "25     0.101496\n",
       "26     0.133508\n",
       "27     0.096405\n",
       "28    -0.031421\n",
       "29     0.072702\n",
       "         ...   \n",
       "115    0.013640\n",
       "116    0.088603\n",
       "117   -0.056717\n",
       "118   -0.049695\n",
       "119    0.024102\n",
       "120    0.071319\n",
       "121    0.026182\n",
       "122    0.049110\n",
       "123    0.043371\n",
       "124    0.075276\n",
       "125   -0.026764\n",
       "126    0.020434\n",
       "127   -0.007269\n",
       "128   -0.019631\n",
       "129    0.149717\n",
       "130    0.064662\n",
       "131   -0.006187\n",
       "132    0.240639\n",
       "133    0.042429\n",
       "134   -0.043049\n",
       "135    0.082075\n",
       "136    0.040539\n",
       "137    0.043065\n",
       "138    0.045676\n",
       "139    0.132365\n",
       "140   -0.004824\n",
       "141   -0.202192\n",
       "142    0.057672\n",
       "143   -0.111350\n",
       "144    0.144317\n",
       "Name: Adj Close AMZN, Length: 145, dtype: float64"
      ]
     },
     "execution_count": 52,
     "metadata": {},
     "output_type": "execute_result"
    }
   ],
   "source": [
    "monthly_return"
   ]
  },
  {
   "cell_type": "code",
   "execution_count": 56,
   "metadata": {},
   "outputs": [
    {
     "data": {
      "text/plain": [
       "[<matplotlib.lines.Line2D at 0xa58bb38>]"
      ]
     },
     "execution_count": 56,
     "metadata": {},
     "output_type": "execute_result"
    },
    {
     "data": {
      "image/png": "[encoded data removed]",
      "text/plain": [
       "<Figure size 432x288 with 1 Axes>"
      ]
     },
     "metadata": {},
     "output_type": "display_data"
    }
   ],
   "source": [
    "plt.plot(data['Date'], monthly_return)"
   ]
  }
 ],
 "metadata": {
  "kernelspec": {
   "display_name": "Python 3",
   "language": "python",
   "name": "python3"
  },
  "language_info": {
   "codemirror_mode": {
    "name": "ipython",
    "version": 3
   },
   "file_extension": ".py",
   "mimetype": "text/x-python",
   "name": "python",
   "nbconvert_exporter": "python",
   "pygments_lexer": "ipython3",
   "version": "3.6.5"
  }
 },
 "nbformat": 4,
 "nbformat_minor": 2
}
